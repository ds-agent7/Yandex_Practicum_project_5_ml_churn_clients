{
 "cells": [
  {
   "cell_type": "markdown",
   "metadata": {},
   "source": [
    "## Project.5 Введение в машинное обучение\n",
    "## (*Рекомендация тарифов*)\n",
    "\n",
    "    (yandex_practicum by student@pavel_matushevskiy, Volgograd 2022)\n"
   ]
  },
  {
   "cell_type": "markdown",
   "metadata": {},
   "source": [
    "### Описание проекта\n",
    "\n",
    "Оператор мобильной связи «Мегалайн» выяснил: многие клиенты пользуются архивными тарифами. Они хотят построить систему, способную проанализировать поведение клиентов и предложить пользователям новый тариф: «Смарт» или «Ультра».  \n",
    "\n",
    "В вашем распоряжении данные о поведении клиентов, которые уже перешли на эти тарифы (из проекта курса «Статистический анализ данных»). Нужно построить модель для задачи классификации, которая выберет подходящий тариф. Предобработка данных не понадобится — вы её уже сделали.  \n",
    "\n",
    "Постройте модель с максимально большим значением accuracy. Чтобы сдать проект успешно, нужно довести долю правильных ответов по крайней мере до 0.75. Проверьте accuracy на тестовой выборке самостоятельно."
   ]
  },
  {
   "cell_type": "markdown",
   "metadata": {},
   "source": [
    "### Описание данных\n",
    "Каждый объект в наборе данных — это информация о поведении одного пользователя за месяц.   \n",
    "Известно:  \n",
    "\n",
    "сalls — количество звонков,  \n",
    "\n",
    "minutes — суммарная длительность звонков в минутах,  \n",
    "\n",
    "messages — количество sms-сообщений,  \n",
    "\n",
    "mb_used — израсходованный интернет-трафик в Мб,  \n",
    "\n",
    "is_ultra — каким тарифом пользовался в течение месяца («Ультра» — 1, «Смарт» — 0)."
   ]
  },
  {
   "cell_type": "markdown",
   "metadata": {},
   "source": [
    "### Шаг.  Импорт библиотек и настроек"
   ]
  },
  {
   "cell_type": "code",
   "execution_count": 1,
   "metadata": {
    "ExecuteTime": {
     "end_time": "2022-10-17T19:57:06.005299Z",
     "start_time": "2022-10-17T19:57:02.531322Z"
    }
   },
   "outputs": [],
   "source": [
    "import numpy as np\n",
    "import pandas as pd\n",
    "import seaborn as sns\n",
    "import plot_metric\n",
    "from sklearn.metrics import log_loss\n",
    "from matplotlib import pyplot as plt\n",
    "from sklearn.model_selection import train_test_split\n",
    "from sklearn.tree import DecisionTreeClassifier\n",
    "from sklearn.ensemble import RandomForestClassifier\n",
    "from plot_metric.functions import BinaryClassification\n",
    "from sklearn.linear_model import LogisticRegression\n",
    "from sklearn.neighbors import KNeighborsClassifier\n",
    "from sklearn import svm\n",
    "from sklearn.metrics import accuracy_score\n",
    "from sklearn.metrics import balanced_accuracy_score\n",
    "from sklearn.metrics import roc_curve, auc\n",
    "from sklearn.metrics import roc_auc_score\n",
    "from sklearn.metrics import confusion_matrix, accuracy_score\n",
    "from sklearn.metrics import classification_report\n",
    "from sklearn.model_selection import cross_val_score\n",
    "from sklearn.model_selection import GridSearchCV\n",
    "import warnings\n",
    "\n",
    "RANDOM_STATE = 42\n",
    "\n",
    "PATH = '/datasets/users_behavior.csv'\n",
    "PATH = 'users_behavior.csv'\n",
    "\n",
    "labels=[\"smart\",\"ultra\"]"
   ]
  },
  {
   "cell_type": "markdown",
   "metadata": {},
   "source": [
    "### Шаг 1. Импорт данных"
   ]
  },
  {
   "cell_type": "code",
   "execution_count": 2,
   "metadata": {
    "ExecuteTime": {
     "end_time": "2022-10-17T19:57:16.141679Z",
     "start_time": "2022-10-17T19:57:16.108477Z"
    }
   },
   "outputs": [
    {
     "data": {
      "text/html": [
       "<div>\n",
       "<style scoped>\n",
       "    .dataframe tbody tr th:only-of-type {\n",
       "        vertical-align: middle;\n",
       "    }\n",
       "\n",
       "    .dataframe tbody tr th {\n",
       "        vertical-align: top;\n",
       "    }\n",
       "\n",
       "    .dataframe thead th {\n",
       "        text-align: right;\n",
       "    }\n",
       "</style>\n",
       "<table border=\"1\" class=\"dataframe\">\n",
       "  <thead>\n",
       "    <tr style=\"text-align: right;\">\n",
       "      <th></th>\n",
       "      <th>calls</th>\n",
       "      <th>minutes</th>\n",
       "      <th>messages</th>\n",
       "      <th>mb_used</th>\n",
       "      <th>is_ultra</th>\n",
       "    </tr>\n",
       "  </thead>\n",
       "  <tbody>\n",
       "    <tr>\n",
       "      <th>0</th>\n",
       "      <td>40.0</td>\n",
       "      <td>311.90</td>\n",
       "      <td>83.0</td>\n",
       "      <td>19915.42</td>\n",
       "      <td>0</td>\n",
       "    </tr>\n",
       "    <tr>\n",
       "      <th>1</th>\n",
       "      <td>85.0</td>\n",
       "      <td>516.75</td>\n",
       "      <td>56.0</td>\n",
       "      <td>22696.96</td>\n",
       "      <td>0</td>\n",
       "    </tr>\n",
       "    <tr>\n",
       "      <th>2</th>\n",
       "      <td>77.0</td>\n",
       "      <td>467.66</td>\n",
       "      <td>86.0</td>\n",
       "      <td>21060.45</td>\n",
       "      <td>0</td>\n",
       "    </tr>\n",
       "    <tr>\n",
       "      <th>3</th>\n",
       "      <td>106.0</td>\n",
       "      <td>745.53</td>\n",
       "      <td>81.0</td>\n",
       "      <td>8437.39</td>\n",
       "      <td>1</td>\n",
       "    </tr>\n",
       "    <tr>\n",
       "      <th>4</th>\n",
       "      <td>66.0</td>\n",
       "      <td>418.74</td>\n",
       "      <td>1.0</td>\n",
       "      <td>14502.75</td>\n",
       "      <td>0</td>\n",
       "    </tr>\n",
       "  </tbody>\n",
       "</table>\n",
       "</div>"
      ],
      "text/plain": [
       "   calls  minutes  messages   mb_used  is_ultra\n",
       "0   40.0   311.90      83.0  19915.42         0\n",
       "1   85.0   516.75      56.0  22696.96         0\n",
       "2   77.0   467.66      86.0  21060.45         0\n",
       "3  106.0   745.53      81.0   8437.39         1\n",
       "4   66.0   418.74       1.0  14502.75         0"
      ]
     },
     "execution_count": 2,
     "metadata": {},
     "output_type": "execute_result"
    }
   ],
   "source": [
    "df = pd.read_csv(PATH)\n",
    "# посмотрим описание данных\n",
    "df.head()"
   ]
  },
  {
   "cell_type": "code",
   "execution_count": 3,
   "metadata": {
    "ExecuteTime": {
     "end_time": "2022-10-17T19:57:21.446766Z",
     "start_time": "2022-10-17T19:57:21.423737Z"
    }
   },
   "outputs": [
    {
     "name": "stdout",
     "output_type": "stream",
     "text": [
      "<class 'pandas.core.frame.DataFrame'>\n",
      "RangeIndex: 3214 entries, 0 to 3213\n",
      "Data columns (total 5 columns):\n",
      " #   Column    Non-Null Count  Dtype  \n",
      "---  ------    --------------  -----  \n",
      " 0   calls     3214 non-null   float64\n",
      " 1   minutes   3214 non-null   float64\n",
      " 2   messages  3214 non-null   float64\n",
      " 3   mb_used   3214 non-null   float64\n",
      " 4   is_ultra  3214 non-null   int64  \n",
      "dtypes: float64(4), int64(1)\n",
      "memory usage: 125.7 KB\n"
     ]
    }
   ],
   "source": [
    "# Посмотрим info: оценим признаки и наличие пропусков:\n",
    "# имеем 4 числовых признака и 1 категориальный (\"is_ultra\")\n",
    "#  странно что у признаков \"messages\" и \"calls\" категория - float, хотя явно должны быть целочисленными.\n",
    "df.info()"
   ]
  },
  {
   "cell_type": "code",
   "execution_count": 4,
   "metadata": {
    "ExecuteTime": {
     "end_time": "2022-10-17T19:57:34.654780Z",
     "start_time": "2022-10-17T19:57:34.628265Z"
    }
   },
   "outputs": [
    {
     "data": {
      "text/html": [
       "<div>\n",
       "<style scoped>\n",
       "    .dataframe tbody tr th:only-of-type {\n",
       "        vertical-align: middle;\n",
       "    }\n",
       "\n",
       "    .dataframe tbody tr th {\n",
       "        vertical-align: top;\n",
       "    }\n",
       "\n",
       "    .dataframe thead th {\n",
       "        text-align: right;\n",
       "    }\n",
       "</style>\n",
       "<table border=\"1\" class=\"dataframe\">\n",
       "  <thead>\n",
       "    <tr style=\"text-align: right;\">\n",
       "      <th></th>\n",
       "      <th>calls</th>\n",
       "      <th>minutes</th>\n",
       "      <th>messages</th>\n",
       "      <th>mb_used</th>\n",
       "      <th>is_ultra</th>\n",
       "    </tr>\n",
       "  </thead>\n",
       "  <tbody>\n",
       "    <tr>\n",
       "      <th>count</th>\n",
       "      <td>3214.000000</td>\n",
       "      <td>3214.000000</td>\n",
       "      <td>3214.000000</td>\n",
       "      <td>3214.000000</td>\n",
       "      <td>3214.000000</td>\n",
       "    </tr>\n",
       "    <tr>\n",
       "      <th>mean</th>\n",
       "      <td>63.038892</td>\n",
       "      <td>438.208787</td>\n",
       "      <td>38.281269</td>\n",
       "      <td>17207.673836</td>\n",
       "      <td>0.306472</td>\n",
       "    </tr>\n",
       "    <tr>\n",
       "      <th>std</th>\n",
       "      <td>33.236368</td>\n",
       "      <td>234.569872</td>\n",
       "      <td>36.148326</td>\n",
       "      <td>7570.968246</td>\n",
       "      <td>0.461100</td>\n",
       "    </tr>\n",
       "    <tr>\n",
       "      <th>min</th>\n",
       "      <td>0.000000</td>\n",
       "      <td>0.000000</td>\n",
       "      <td>0.000000</td>\n",
       "      <td>0.000000</td>\n",
       "      <td>0.000000</td>\n",
       "    </tr>\n",
       "    <tr>\n",
       "      <th>25%</th>\n",
       "      <td>40.000000</td>\n",
       "      <td>274.575000</td>\n",
       "      <td>9.000000</td>\n",
       "      <td>12491.902500</td>\n",
       "      <td>0.000000</td>\n",
       "    </tr>\n",
       "    <tr>\n",
       "      <th>50%</th>\n",
       "      <td>62.000000</td>\n",
       "      <td>430.600000</td>\n",
       "      <td>30.000000</td>\n",
       "      <td>16943.235000</td>\n",
       "      <td>0.000000</td>\n",
       "    </tr>\n",
       "    <tr>\n",
       "      <th>75%</th>\n",
       "      <td>82.000000</td>\n",
       "      <td>571.927500</td>\n",
       "      <td>57.000000</td>\n",
       "      <td>21424.700000</td>\n",
       "      <td>1.000000</td>\n",
       "    </tr>\n",
       "    <tr>\n",
       "      <th>max</th>\n",
       "      <td>244.000000</td>\n",
       "      <td>1632.060000</td>\n",
       "      <td>224.000000</td>\n",
       "      <td>49745.730000</td>\n",
       "      <td>1.000000</td>\n",
       "    </tr>\n",
       "  </tbody>\n",
       "</table>\n",
       "</div>"
      ],
      "text/plain": [
       "             calls      minutes     messages       mb_used     is_ultra\n",
       "count  3214.000000  3214.000000  3214.000000   3214.000000  3214.000000\n",
       "mean     63.038892   438.208787    38.281269  17207.673836     0.306472\n",
       "std      33.236368   234.569872    36.148326   7570.968246     0.461100\n",
       "min       0.000000     0.000000     0.000000      0.000000     0.000000\n",
       "25%      40.000000   274.575000     9.000000  12491.902500     0.000000\n",
       "50%      62.000000   430.600000    30.000000  16943.235000     0.000000\n",
       "75%      82.000000   571.927500    57.000000  21424.700000     1.000000\n",
       "max     244.000000  1632.060000   224.000000  49745.730000     1.000000"
      ]
     },
     "execution_count": 4,
     "metadata": {},
     "output_type": "execute_result"
    }
   ],
   "source": [
    "df.describe()"
   ]
  },
  {
   "cell_type": "code",
   "execution_count": 5,
   "metadata": {
    "ExecuteTime": {
     "end_time": "2022-10-17T19:57:37.989129Z",
     "start_time": "2022-10-17T19:57:37.974725Z"
    }
   },
   "outputs": [
    {
     "data": {
      "text/plain": [
       "0"
      ]
     },
     "execution_count": 5,
     "metadata": {},
     "output_type": "execute_result"
    }
   ],
   "source": [
    "# Проверим на наличие дубликатов:\n",
    "# дубликаты лучше убирать, т.к. они негативно влияют нат метрики обученной модели.\n",
    "df.duplicated().sum()"
   ]
  },
  {
   "cell_type": "code",
   "execution_count": 6,
   "metadata": {
    "ExecuteTime": {
     "end_time": "2022-10-17T19:57:41.470771Z",
     "start_time": "2022-10-17T19:57:41.456093Z"
    }
   },
   "outputs": [
    {
     "data": {
      "text/plain": [
       "0    0.693528\n",
       "1    0.306472\n",
       "Name: is_ultra, dtype: float64"
      ]
     },
     "execution_count": 6,
     "metadata": {},
     "output_type": "execute_result"
    }
   ],
   "source": [
    "# проверим баланс классов таргета:\n",
    "# Баланс не совсем равномерный, и это может повлиять на точность модели по классам\n",
    "# (модель лучше выучит тот класс, которого больше)\n",
    "# Это можно лечить весами классов при построении модели (используем этот вариант). \n",
    "# также можно использовать balanced_accuracy_score для рассчета сбалансированной метрики.\n",
    "# или же сгенерировать новые данные для балансировки классов.\n",
    "df['is_ultra'].value_counts(normalize=True)"
   ]
  },
  {
   "cell_type": "markdown",
   "metadata": {},
   "source": [
    "#### Промежуточный вывод\n",
    "Мы ознакомились с данными, к ним особых претензий нет, пропусков нет, дубликатов нет, данные готовы к дальнейшей работе для обучения модели."
   ]
  },
  {
   "cell_type": "markdown",
   "metadata": {},
   "source": [
    "### 2. Разделение данных на выборки: train, validate, test"
   ]
  },
  {
   "cell_type": "code",
   "execution_count": 7,
   "metadata": {
    "ExecuteTime": {
     "end_time": "2022-10-17T19:57:58.112293Z",
     "start_time": "2022-10-17T19:57:58.095489Z"
    }
   },
   "outputs": [],
   "source": [
    "# нам нужны три выборки, будем разбивать на три группы train, validate, test\n",
    "# в классическом соотношении: 60%-20%-20%\n",
    "\"\"\"\n",
    "train, validate, test = \\\n",
    "              np.split(df.sample(frac=1, random_state=RANDOM_STATE),\n",
    "                      [int(.6*len(df)), int(.8*len(df))])\n",
    "\"\"\"\n",
    "# но лучше разбить на 80%-10%-10% (так модель будет иметь больше данных для обучения,\n",
    "# и сможет лучше выявить закономерности) - проверено на практике,\n",
    "# результаты метрик - лучше.\n",
    "train, validate, test = \\\n",
    "    np.split(df.sample(frac=1, random_state=RANDOM_STATE),\n",
    "             [int(.8*len(df)), int(.9*len(df))])"
   ]
  },
  {
   "cell_type": "code",
   "execution_count": 8,
   "metadata": {
    "ExecuteTime": {
     "end_time": "2022-10-17T19:58:31.700020Z",
     "start_time": "2022-10-17T19:58:31.692619Z"
    }
   },
   "outputs": [
    {
     "name": "stdout",
     "output_type": "stream",
     "text": [
      "(2571, 5) (321, 5) (322, 5)\n"
     ]
    }
   ],
   "source": [
    "#Проверим баланс разбивки в итоге:\n",
    "print(train.shape,validate.shape,test.shape)"
   ]
  },
  {
   "cell_type": "markdown",
   "metadata": {},
   "source": [
    "### 3. Построение разных моделей, исследование результатов. "
   ]
  },
  {
   "cell_type": "markdown",
   "metadata": {},
   "source": [
    "#### 3.1. Формирование признаков и таргета для train, validate, test"
   ]
  },
  {
   "cell_type": "code",
   "execution_count": 9,
   "metadata": {
    "ExecuteTime": {
     "end_time": "2022-10-17T19:58:38.618458Z",
     "start_time": "2022-10-17T19:58:38.603085Z"
    }
   },
   "outputs": [],
   "source": [
    "# for train:\n",
    "train_features = train.drop(['is_ultra'], axis=1)\n",
    "train_target = train['is_ultra']\n",
    "# for validate:\n",
    "valid_features = validate.drop(['is_ultra'], axis=1)\n",
    "valid_target = validate['is_ultra']\n",
    "# for test:\n",
    "test_features = test.drop(['is_ultra'], axis=1)\n",
    "test_target = test['is_ultra']"
   ]
  },
  {
   "cell_type": "markdown",
   "metadata": {},
   "source": [
    "По факту в нашем случае особого смысла в 3-ьей выборке (test) не было, т.к. данные validate и test \"из одной бочки\", поэтому датасет \"test\" ничего нового нам не покажет.  \n",
    "Другое дело было бы - если бы в test были бы контрольные данные. \n",
    "Но для отработки общей классической процедуры обучения модели - будем использовать train, validate, test."
   ]
  },
  {
   "cell_type": "code",
   "execution_count": 10,
   "metadata": {
    "ExecuteTime": {
     "end_time": "2022-10-17T19:59:22.078395Z",
     "start_time": "2022-10-17T19:59:22.060965Z"
    }
   },
   "outputs": [
    {
     "data": {
      "text/plain": [
       "0    0.694282\n",
       "1    0.305718\n",
       "Name: is_ultra, dtype: float64"
      ]
     },
     "execution_count": 10,
     "metadata": {},
     "output_type": "execute_result"
    }
   ],
   "source": [
    "# смотрим распределение таргета по категориям в TRAIN: есть дисбаланс. Учтем его в дальнейшем\n",
    "train['is_ultra'].value_counts(normalize=True)"
   ]
  },
  {
   "cell_type": "code",
   "execution_count": 12,
   "metadata": {
    "ExecuteTime": {
     "end_time": "2022-10-17T19:59:31.846921Z",
     "start_time": "2022-10-17T19:59:31.772289Z"
    }
   },
   "outputs": [
    {
     "name": "stderr",
     "output_type": "stream",
     "text": [
      "/Users/paulmatus/opt/anaconda3/lib/python3.8/site-packages/seaborn/_decorators.py:36: FutureWarning: Pass the following variable as a keyword arg: x. From version 0.12, the only valid positional argument will be `data`, and passing other arguments without an explicit keyword will result in an error or misinterpretation.\n",
      "  warnings.warn(\n"
     ]
    },
    {
     "data": {
      "image/png": "[encoded data removed]",
      "text/plain": [
       "<Figure size 432x288 with 1 Axes>"
      ]
     },
     "metadata": {
      "needs_background": "light"
     },
     "output_type": "display_data"
    }
   ],
   "source": [
    "sns.countplot(train['is_ultra'])\n",
    "plt.show()"
   ]
  },
  {
   "cell_type": "code",
   "execution_count": 13,
   "metadata": {
    "ExecuteTime": {
     "end_time": "2022-10-17T19:59:40.811813Z",
     "start_time": "2022-10-17T19:59:40.744167Z"
    }
   },
   "outputs": [
    {
     "name": "stderr",
     "output_type": "stream",
     "text": [
      "/Users/paulmatus/opt/anaconda3/lib/python3.8/site-packages/seaborn/_decorators.py:36: FutureWarning: Pass the following variable as a keyword arg: x. From version 0.12, the only valid positional argument will be `data`, and passing other arguments without an explicit keyword will result in an error or misinterpretation.\n",
      "  warnings.warn(\n"
     ]
    },
    {
     "data": {
      "image/png": "[encoded data removed]",
      "text/plain": [
       "<Figure size 432x288 with 1 Axes>"
      ]
     },
     "metadata": {
      "needs_background": "light"
     },
     "output_type": "display_data"
    }
   ],
   "source": [
    "# смотрим распределение таргета по категориям в VALIDATE: есть дисбаланс.  \n",
    "sns.countplot(validate['is_ultra'])\n",
    "plt.show()"
   ]
  },
  {
   "cell_type": "code",
   "execution_count": 15,
   "metadata": {
    "ExecuteTime": {
     "end_time": "2022-10-17T19:59:51.993774Z",
     "start_time": "2022-10-17T19:59:51.921922Z"
    }
   },
   "outputs": [
    {
     "name": "stderr",
     "output_type": "stream",
     "text": [
      "/Users/paulmatus/opt/anaconda3/lib/python3.8/site-packages/seaborn/_decorators.py:36: FutureWarning: Pass the following variable as a keyword arg: x. From version 0.12, the only valid positional argument will be `data`, and passing other arguments without an explicit keyword will result in an error or misinterpretation.\n",
      "  warnings.warn(\n"
     ]
    },
    {
     "data": {
      "image/png": "[encoded data removed]",
      "text/plain": [
       "<Figure size 432x288 with 1 Axes>"
      ]
     },
     "metadata": {
      "needs_background": "light"
     },
     "output_type": "display_data"
    }
   ],
   "source": [
    "# смотрим распределение таргета по категориям в TEST:   есть дисбаланс.  \n",
    "sns.countplot(test['is_ultra'])\n",
    "plt.show()"
   ]
  },
  {
   "cell_type": "markdown",
   "metadata": {},
   "source": [
    "#### 3.2. Модель дерево решений (decision tree)"
   ]
  },
  {
   "cell_type": "code",
   "execution_count": 16,
   "metadata": {
    "ExecuteTime": {
     "end_time": "2022-10-17T20:00:25.596458Z",
     "start_time": "2022-10-17T20:00:25.460571Z"
    }
   },
   "outputs": [
    {
     "name": "stdout",
     "output_type": "stream",
     "text": [
      "Descision Tree; max_depth= 2 ; accuracy = 0.8068535825545171\n",
      "Descision Tree; max_depth= 3 ; accuracy = 0.8161993769470405\n",
      "Descision Tree; max_depth= 4 ; accuracy = 0.8099688473520249\n",
      "Descision Tree; max_depth= 5 ; accuracy = 0.8255451713395638\n",
      "Descision Tree; max_depth= 6 ; accuracy = 0.8161993769470405\n",
      "Descision Tree; max_depth= 7 ; accuracy = 0.8255451713395638\n",
      "Descision Tree; max_depth= 8 ; accuracy = 0.8286604361370716\n",
      "Descision Tree; max_depth= 9 ; accuracy = 0.8504672897196262\n",
      "Descision Tree; max_depth= 10 ; accuracy = 0.838006230529595\n",
      "Descision Tree; max_depth= 11 ; accuracy = 0.8286604361370716\n",
      "Descision Tree; max_depth= 12 ; accuracy = 0.8099688473520249\n",
      "Descision Tree; max_depth= 13 ; accuracy = 0.8037383177570093\n",
      "Descision Tree; max_depth= 14 ; accuracy = 0.8006230529595015\n"
     ]
    }
   ],
   "source": [
    "# Построение моделей и поиск лучших начнем с простенькой модели - дерево решений.\n",
    "# Будем строить модели с разной глубиной: от 2 до 14.\n",
    "# и посмотрим на результаты:\n",
    "# как видим наилучший результат  по метрике accuracy (85%) показала модель с глубиной 9.\n",
    "\n",
    "for max_depth in range(2, 15):\n",
    "    model_decision_tree = DecisionTreeClassifier(max_depth=max_depth,\n",
    "                                                 class_weight={0: 1, 1: 1.2},\n",
    "                                                 # class_weight = 'balanced',# bad result\n",
    "                                                 random_state=RANDOM_STATE)\n",
    "    model_decision_tree.fit(train_features, train_target)\n",
    "    valid_predicted_tree = model_decision_tree.predict(valid_features)\n",
    "    accuracy = accuracy_score(valid_target, valid_predicted_tree)\n",
    "    modelName = 'Descision Tree; max_depth= ' + str(max_depth)\n",
    "\n",
    "    print(modelName, '; accuracy =', accuracy)"
   ]
  },
  {
   "cell_type": "markdown",
   "metadata": {},
   "source": [
    "Лучший результат:  \n",
    "\n",
    "    Descision Treet;  max_depth= 9 ; accuracy = 0.8411214953271028"
   ]
  },
  {
   "cell_type": "markdown",
   "metadata": {},
   "source": [
    "Лучший результат (+class_weight):  \n",
    "\n",
    "    Descision Treet;  max_depth= 9 ; accuracy = 0.8504672897196262\n",
    "    \n",
    "Параметр модели  class_weight = {0: 1, 1: 1.2} из-за дисбаланса классов по таргету дал прироста к точности модели (+1%)"
   ]
  },
  {
   "cell_type": "code",
   "execution_count": 17,
   "metadata": {
    "ExecuteTime": {
     "end_time": "2022-10-17T20:01:53.324559Z",
     "start_time": "2022-10-17T20:01:53.299564Z"
    }
   },
   "outputs": [
    {
     "data": {
      "text/plain": [
       "array([1, 1, 0, 0, 0, 0, 0, 1, 0, 0, 0, 0, 0, 0, 0, 0, 0, 0, 1, 0, 0, 0,\n",
       "       0, 0, 0, 0, 0, 1, 1, 1, 1, 1, 0, 1, 0, 0, 1, 0, 0, 0, 0, 0, 1, 0,\n",
       "       0, 0, 1, 0, 0, 0, 0, 0, 0, 1, 0, 0, 0, 1, 1, 0, 0, 0, 0, 0, 1, 1,\n",
       "       0, 0, 0, 1, 0, 0, 0, 1, 1, 0, 0, 0, 1, 1, 1, 0, 0, 1, 0, 1, 1, 0,\n",
       "       0, 0, 1, 1, 0, 0, 0, 0, 0, 0, 1, 1, 0, 0, 0, 0, 0, 0, 0, 0, 0, 0,\n",
       "       0, 1, 0, 1, 0, 1, 1, 0, 0, 0, 0, 0, 0, 0, 0, 0, 0, 0, 0, 0, 0, 0,\n",
       "       0, 0, 0, 0, 0, 1, 0, 0, 1, 0, 0, 0, 1, 0, 0, 0, 0, 0, 0, 0, 0, 0,\n",
       "       0, 1, 1, 0, 0, 1, 0, 0, 0, 0, 0, 0, 1, 0, 0, 0, 1, 0, 0, 0, 0, 0,\n",
       "       0, 1, 0, 0, 0, 0, 1, 1, 0, 1, 0, 0, 0, 0, 1, 1, 0, 0, 0, 1, 0, 0,\n",
       "       0, 0, 0, 0, 0, 1, 0, 0, 0, 1, 0, 0, 0, 0, 0, 0, 0, 0, 0, 0, 0, 0,\n",
       "       1, 0, 0, 0, 0, 0, 0, 0, 0, 0, 0, 1, 0, 0, 0, 0, 0, 1, 0, 0, 1, 0,\n",
       "       0, 0, 0, 0, 0, 1, 1, 0, 0, 1, 1, 0, 0, 1, 0, 0, 0, 0, 0, 0, 0, 0,\n",
       "       0, 0, 0, 0, 1, 0, 0, 0, 0, 1, 0, 0, 0, 0, 1, 0, 0, 0, 1, 0, 0, 1,\n",
       "       0, 0, 0, 0, 1, 1, 0, 0, 0, 0, 0, 0, 0, 0, 0, 0, 0, 0, 0, 0, 0, 0,\n",
       "       0, 1, 1, 0, 0, 0, 1, 1, 0, 0, 0, 0, 0])"
      ]
     },
     "execution_count": 17,
     "metadata": {},
     "output_type": "execute_result"
    }
   ],
   "source": [
    "# Посмотрим детальней результаты предсказаний лучшей модели:\n",
    "\n",
    "model_decision_tree = DecisionTreeClassifier(max_depth=9,\n",
    "                                             class_weight={0: 1, 1: 1.2},\n",
    "                                             random_state=RANDOM_STATE)\n",
    "model_decision_tree.fit(train_features, train_target)\n",
    "valid_predicted_tree = model_decision_tree.predict(valid_features)\n",
    "valid_predicted_tree"
   ]
  },
  {
   "cell_type": "code",
   "execution_count": 18,
   "metadata": {
    "ExecuteTime": {
     "end_time": "2022-10-17T20:02:04.046114Z",
     "start_time": "2022-10-17T20:02:03.955709Z"
    }
   },
   "outputs": [
    {
     "data": {
      "image/png": "[encoded data removed]",
      "text/plain": [
       "<Figure size 432x432 with 1 Axes>"
      ]
     },
     "metadata": {
      "needs_background": "light"
     },
     "output_type": "display_data"
    }
   ],
   "source": [
    "# построим confusion_matrix для оценки результатов:\n",
    "plt.subplots(figsize=(6, 6))\n",
    "sns.heatmap(confusion_matrix(valid_target, valid_predicted_tree),\n",
    "            xticklabels=labels,\n",
    "            yticklabels=labels,\n",
    "            annot=True,\n",
    "            fmt=\"1.0f\",\n",
    "            cbar=False,\n",
    "            annot_kws={\"size\": 20})\n",
    "plt.title(\"Confusion matrix\", fontsize=30)\n",
    "plt.xlabel(\n",
    "    f\"DecisionTreeClassifier model аccuracy: {accuracy_score(valid_target,valid_predicted_tree)}\",\n",
    "    fontsize=30)\n",
    "plt.show()"
   ]
  },
  {
   "cell_type": "code",
   "execution_count": 19,
   "metadata": {
    "ExecuteTime": {
     "end_time": "2022-10-17T20:02:35.284430Z",
     "start_time": "2022-10-17T20:02:35.271787Z"
    }
   },
   "outputs": [
    {
     "name": "stdout",
     "output_type": "stream",
     "text": [
      "              precision    recall  f1-score   support\n",
      "\n",
      "       smart       0.85      0.95      0.90       221\n",
      "       ultra       0.86      0.62      0.72       100\n",
      "\n",
      "    accuracy                           0.85       321\n",
      "   macro avg       0.85      0.79      0.81       321\n",
      "weighted avg       0.85      0.85      0.84       321\n",
      "\n"
     ]
    }
   ],
   "source": [
    "# выведем отчет по матрице предсказаний и др важным метрикам:\n",
    "print(classification_report(valid_target, valid_predicted_tree, target_names=labels))"
   ]
  },
  {
   "cell_type": "code",
   "execution_count": 20,
   "metadata": {
    "ExecuteTime": {
     "end_time": "2022-10-17T20:02:38.371538Z",
     "start_time": "2022-10-17T20:02:38.359516Z"
    }
   },
   "outputs": [
    {
     "name": "stdout",
     "output_type": "stream",
     "text": [
      "balanced accuracy 0.7873755656108598\n",
      "accuracy 0.8504672897196262\n"
     ]
    }
   ],
   "source": [
    "# глянем на balanced accuracy (из-за того, что классы  таргета у нас неравные)\n",
    "# странно, что  balanced accuracy выдало метрику хуже, чем просто accuracy. Хм...\n",
    "print(\"balanced accuracy\", balanced_accuracy_score(\n",
    "    valid_target, valid_predicted_tree))\n",
    "print(\"accuracy\", accuracy_score(valid_target, valid_predicted_tree))"
   ]
  },
  {
   "cell_type": "markdown",
   "metadata": {},
   "source": [
    "Наша задача научить модель одинакого верно определять как тариф \"Smart\", так \"ultra\" (без предпочтений).  \n",
    "Precision по тарифу \"smart\" - 85%. Неплохой результат классификации категории.  \n",
    "Как видим, показатель Recall  по \"ultra\" категории низкий (62%), это означает, что модель плохо распознает тариф \"ultra\" (возможно из-за дисбаланса классов, хотя мы попытались это исправить)."
   ]
  },
  {
   "cell_type": "code",
   "execution_count": 21,
   "metadata": {
    "ExecuteTime": {
     "end_time": "2022-10-17T20:03:00.630851Z",
     "start_time": "2022-10-17T20:03:00.521495Z"
    }
   },
   "outputs": [
    {
     "name": "stdout",
     "output_type": "stream",
     "text": [
      "DecisionTreeClassifier: ROC AUC=0.787\n"
     ]
    },
    {
     "data": {
      "image/png": "[encoded data removed]",
      "text/plain": [
       "<Figure size 432x288 with 1 Axes>"
      ]
     },
     "metadata": {
      "needs_background": "light"
     },
     "output_type": "display_data"
    }
   ],
   "source": [
    "# рассчитаем ROC AUC значение:\n",
    "lr_auc = roc_auc_score(valid_target, valid_predicted_tree)\n",
    "print('DecisionTreeClassifier: ROC AUC=%.3f' % (lr_auc))\n",
    "# рассчитываем roc-кривую\n",
    "fpr, tpr, treshold = roc_curve(valid_target, valid_predicted_tree)\n",
    "roc_auc = auc(fpr, tpr)\n",
    "# строим график\n",
    "plt.plot(fpr, tpr, color='darkorange',\n",
    "         label='ROC кривая (area = %0.2f)' % roc_auc)\n",
    "plt.plot([0, 1], [0, 1], color='navy', linestyle='--')\n",
    "plt.xlim([0.0, 1.0])\n",
    "plt.ylim([0.0, 1.05])\n",
    "plt.xlabel('False Positive Rate')\n",
    "plt.ylabel('True Positive Rate')\n",
    "plt.title('DecisionTreeClassifier ROC-кривой')\n",
    "plt.legend(loc=\"lower right\")\n",
    "plt.show()"
   ]
  },
  {
   "cell_type": "markdown",
   "metadata": {},
   "source": [
    "Именно показатель ROC_AUC является в такой ситуации наилучшим мерилом баланса успешности модели между умением определять классы.   \n",
    "Чем значение ROC_AUC выше - тем наша модель лучше.    \n",
    "Мы подобрали class_weight = {0: 1, 1: 1.2}  в качестве оптимального для наивысшего результата ROC_AUC для данной модели (78.7%)"
   ]
  },
  {
   "cell_type": "markdown",
   "metadata": {},
   "source": [
    "#### 3.3. Модель случайный лес (random forest)"
   ]
  },
  {
   "cell_type": "code",
   "execution_count": 20,
   "metadata": {
    "ExecuteTime": {
     "end_time": "2022-05-05T05:48:48.716219Z",
     "start_time": "2022-05-05T05:48:47.551750Z"
    }
   },
   "outputs": [
    {
     "name": "stdout",
     "output_type": "stream",
     "text": [
      "Random Forest; n_estimators = 5 ; max_depth= 5 ; accuracy = 0.7975077881619937\n",
      "Random Forest; n_estimators = 5 ; max_depth= 6 ; accuracy = 0.838006230529595\n",
      "Random Forest; n_estimators = 5 ; max_depth= 7 ; accuracy = 0.822429906542056\n",
      "Random Forest; n_estimators = 5 ; max_depth= 8 ; accuracy = 0.8317757009345794\n",
      "Random Forest; n_estimators = 5 ; max_depth= 9 ; accuracy = 0.8068535825545171\n",
      "Random Forest; n_estimators = 5 ; max_depth= 10 ; accuracy = 0.8068535825545171\n",
      "Random Forest; n_estimators = 5 ; max_depth= 11 ; accuracy = 0.8068535825545171\n",
      "\n",
      "Random Forest; n_estimators = 10 ; max_depth= 5 ; accuracy = 0.8099688473520249\n",
      "Random Forest; n_estimators = 10 ; max_depth= 6 ; accuracy = 0.822429906542056\n",
      "Random Forest; n_estimators = 10 ; max_depth= 7 ; accuracy = 0.8255451713395638\n",
      "Random Forest; n_estimators = 10 ; max_depth= 8 ; accuracy = 0.822429906542056\n",
      "Random Forest; n_estimators = 10 ; max_depth= 9 ; accuracy = 0.8161993769470405\n",
      "Random Forest; n_estimators = 10 ; max_depth= 10 ; accuracy = 0.8099688473520249\n",
      "Random Forest; n_estimators = 10 ; max_depth= 11 ; accuracy = 0.8130841121495327\n",
      "\n",
      "Random Forest; n_estimators = 15 ; max_depth= 5 ; accuracy = 0.822429906542056\n",
      "Random Forest; n_estimators = 15 ; max_depth= 6 ; accuracy = 0.8286604361370716\n",
      "Random Forest; n_estimators = 15 ; max_depth= 7 ; accuracy = 0.8348909657320872\n",
      "Random Forest; n_estimators = 15 ; max_depth= 8 ; accuracy = 0.8193146417445483\n",
      "Random Forest; n_estimators = 15 ; max_depth= 9 ; accuracy = 0.8193146417445483\n",
      "Random Forest; n_estimators = 15 ; max_depth= 10 ; accuracy = 0.8255451713395638\n",
      "Random Forest; n_estimators = 15 ; max_depth= 11 ; accuracy = 0.8193146417445483\n",
      "\n",
      "Random Forest; n_estimators = 20 ; max_depth= 5 ; accuracy = 0.8193146417445483\n",
      "Random Forest; n_estimators = 20 ; max_depth= 6 ; accuracy = 0.822429906542056\n",
      "Random Forest; n_estimators = 20 ; max_depth= 7 ; accuracy = 0.838006230529595\n",
      "Random Forest; n_estimators = 20 ; max_depth= 8 ; accuracy = 0.8255451713395638\n",
      "Random Forest; n_estimators = 20 ; max_depth= 9 ; accuracy = 0.822429906542056\n",
      "Random Forest; n_estimators = 20 ; max_depth= 10 ; accuracy = 0.8193146417445483\n",
      "Random Forest; n_estimators = 20 ; max_depth= 11 ; accuracy = 0.822429906542056\n",
      "\n",
      "Random Forest; n_estimators = 25 ; max_depth= 5 ; accuracy = 0.822429906542056\n",
      "Random Forest; n_estimators = 25 ; max_depth= 6 ; accuracy = 0.8286604361370716\n",
      "Random Forest; n_estimators = 25 ; max_depth= 7 ; accuracy = 0.838006230529595\n",
      "Random Forest; n_estimators = 25 ; max_depth= 8 ; accuracy = 0.8255451713395638\n",
      "Random Forest; n_estimators = 25 ; max_depth= 9 ; accuracy = 0.822429906542056\n",
      "Random Forest; n_estimators = 25 ; max_depth= 10 ; accuracy = 0.8255451713395638\n",
      "Random Forest; n_estimators = 25 ; max_depth= 11 ; accuracy = 0.8255451713395638\n",
      "\n",
      "CPU times: user 1.95 s, sys: 453 ms, total: 2.4 s\n",
      "Wall time: 1.16 s\n"
     ]
    }
   ],
   "source": [
    "%%time\n",
    "# построим модели \"случайный лес\" с кол-вом деревьев от 5 до 30 (с шагом 5)\n",
    "# и глубиной дерева от 5 до 12,\n",
    "# и посмотрим на результаты, а затем выберем наилучшую комбинацию гиперпараметров:\n",
    "\n",
    "for estim in range(5, 30, 5):\n",
    "    for max_depth in range(5, 12):\n",
    "        model_random_forest = RandomForestClassifier(n_estimators=estim,\n",
    "                                                     max_depth=max_depth, n_jobs=-1,\n",
    "                                                     class_weight={\n",
    "                                                         0: 1,\n",
    "                                                         1: 1.2\n",
    "                                                     },\n",
    "                                                     random_state=RANDOM_STATE)\n",
    "        model_random_forest.fit(train_features, train_target)\n",
    "        valid_pred_rf = model_random_forest.predict(valid_features)\n",
    "\n",
    "        accuracy = accuracy_score(valid_target, valid_pred_rf)\n",
    "\n",
    "        modelName = \"Random Forest; n_estimators = \" + str(\n",
    "            estim) + \" ; max_depth= \" + str(max_depth)\n",
    "        print(modelName, '; accuracy =', accuracy)\n",
    "    print()  # для разделения вывода"
   ]
  },
  {
   "cell_type": "markdown",
   "metadata": {
    "ExecuteTime": {
     "end_time": "2022-04-22T06:07:54.593532Z",
     "start_time": "2022-04-22T06:07:54.590451Z"
    }
   },
   "source": [
    "Лучший результат:  \n",
    "\n",
    "    Random Forest; n_estimators = 5 ; max_depth= 6 ; accuracy = 0.8317757009345794\n",
    "    Random Forest; n_estimators = 30 ; max_depth= 6 ; accuracy = 0.8317757009345794"
   ]
  },
  {
   "cell_type": "markdown",
   "metadata": {},
   "source": [
    " В случае с  class_weight = {0: 1, 1: 1.2}, результат лучший:  \n",
    " \n",
    "     Random Forest; n_estimators = 5 ; max_depth= 6 ; accuracy = 0.838006230529595  \n",
    " \n",
    "     Random Forest; n_estimators = 25 ; max_depth= 7 ; accuracy = 0.838006230529595"
   ]
  },
  {
   "cell_type": "markdown",
   "metadata": {},
   "source": [
    "#### Можно также поиск лучших гиперпараметров произвести через **GridSearch**."
   ]
  },
  {
   "cell_type": "code",
   "execution_count": 21,
   "metadata": {
    "ExecuteTime": {
     "end_time": "2022-05-05T05:48:53.660577Z",
     "start_time": "2022-05-05T05:48:48.718208Z"
    }
   },
   "outputs": [
    {
     "name": "stdout",
     "output_type": "stream",
     "text": [
      "{'max_depth': 10, 'n_estimators': 25}\n",
      "CPU times: user 475 ms, sys: 188 ms, total: 663 ms\n",
      "Wall time: 4.94 s\n"
     ]
    },
    {
     "data": {
      "text/plain": [
       "0.8105866797627591"
      ]
     },
     "execution_count": 21,
     "metadata": {},
     "output_type": "execute_result"
    }
   ],
   "source": [
    "from sklearn.model_selection import GridSearchCV\n",
    "% % time\n",
    "\n",
    "#iris = datasets.load_iris()\n",
    "parameters = {'n_estimators': [5, 10, 15, 20, 25,\n",
    "                               30, 35], 'max_depth': [5, 6, 7, 8, 9, 10, 11, 12]}\n",
    "#svc = svm.SVC()\n",
    "model_random_forest = RandomForestClassifier(\n",
    "    class_weight={0: 1, 1: 1.2},\n",
    "    random_state=RANDOM_STATE,)\n",
    "clf = GridSearchCV(model_random_forest, parameters,\n",
    "                   n_jobs=-1)\n",
    "clf.fit(train_features, train_target)\n",
    "#clf.fit(valid_target, valid_pred_rf)\n",
    "# sorted(clf.cv_results_.keys())\n",
    "# print(clf.predict(valid_features))\n",
    "print(clf.best_params_)\n",
    "clf.best_score_"
   ]
  },
  {
   "cell_type": "markdown",
   "metadata": {
    "ExecuteTime": {
     "end_time": "2022-05-05T05:48:53.667411Z",
     "start_time": "2022-05-05T05:48:53.663358Z"
    }
   },
   "source": [
    "Странно, что грид-сеарч выдал нам другие лучшие настройки, чем мы нашли наглаз.(ошибка?)"
   ]
  },
  {
   "cell_type": "markdown",
   "metadata": {},
   "source": [
    "Посмотрим детальней на лучшую модель:"
   ]
  },
  {
   "cell_type": "code",
   "execution_count": 23,
   "metadata": {
    "ExecuteTime": {
     "end_time": "2022-05-05T05:49:10.364790Z",
     "start_time": "2022-05-05T05:49:10.244802Z"
    }
   },
   "outputs": [
    {
     "data": {
      "image/png": "[encoded data removed]",
      "text/plain": [
       "<Figure size 432x432 with 1 Axes>"
      ]
     },
     "metadata": {
      "needs_background": "light"
     },
     "output_type": "display_data"
    }
   ],
   "source": [
    "# Посмотрим детальней результаты предсказаний данной модели:\n",
    "model_random_forest = RandomForestClassifier(n_estimators=5,\n",
    "                                             max_depth=6,\n",
    "                                             class_weight={\n",
    "                                                 0: 1,\n",
    "                                                 1: 1.2},\n",
    "                                             random_state=RANDOM_STATE)\n",
    "model_random_forest.fit(train_features, train_target)\n",
    "valid_pred_rf = model_random_forest.predict(valid_features)\n",
    "\n",
    "plt.subplots(figsize=(6, 6))\n",
    "sns.heatmap(confusion_matrix(valid_target, valid_pred_rf),\n",
    "            xticklabels=labels,\n",
    "            yticklabels=labels,\n",
    "            annot=True,\n",
    "            fmt=\"1.0f\",\n",
    "            cbar=False,\n",
    "            annot_kws={\"size\": 20})\n",
    "plt.title(\"Confusion matrix\", fontsize=30)\n",
    "plt.xlabel(\n",
    "    f\"RandomForestClassifier model аccuracy: {accuracy_score(valid_target,valid_pred_rf)}\",\n",
    "    fontsize=30)\n",
    "plt.show()"
   ]
  },
  {
   "cell_type": "code",
   "execution_count": 24,
   "metadata": {
    "ExecuteTime": {
     "end_time": "2022-05-05T05:49:11.276633Z",
     "start_time": "2022-05-05T05:49:11.268710Z"
    }
   },
   "outputs": [
    {
     "name": "stdout",
     "output_type": "stream",
     "text": [
      "              precision    recall  f1-score   support\n",
      "\n",
      "       smart       0.84      0.95      0.89       221\n",
      "       ultra       0.83      0.60      0.70       100\n",
      "\n",
      "    accuracy                           0.84       321\n",
      "   macro avg       0.84      0.77      0.79       321\n",
      "weighted avg       0.84      0.84      0.83       321\n",
      "\n"
     ]
    }
   ],
   "source": [
    "print(classification_report(valid_target, valid_pred_rf, target_names = labels)) "
   ]
  },
  {
   "cell_type": "code",
   "execution_count": 25,
   "metadata": {
    "ExecuteTime": {
     "end_time": "2022-05-05T05:49:11.476397Z",
     "start_time": "2022-05-05T05:49:11.471180Z"
    }
   },
   "outputs": [
    {
     "name": "stdout",
     "output_type": "stream",
     "text": [
      "balanced accuracy 0.7728506787330316\n",
      "accuracy 0.838006230529595\n"
     ]
    }
   ],
   "source": [
    "# странно, что и здесь balanced accuracy выдал результат хуже, чем просто accuracy (ошибка?)\n",
    "print(\"balanced accuracy\", balanced_accuracy_score(valid_target, valid_pred_rf))\n",
    "print(\"accuracy\", accuracy_score(valid_target, valid_pred_rf))"
   ]
  },
  {
   "cell_type": "markdown",
   "metadata": {},
   "source": [
    "Оценим результаты работы RandomForestClassifier:  \n",
    "\n",
    "Precision по тарифу \"smart\" - 84%,  \n",
    "показатель Recall  по \"ultra\" категории низкий (60%).  \n",
    "\n",
    "RandomForestClassifier хуже отработал, чем DecisionTreeClassifier."
   ]
  },
  {
   "cell_type": "code",
   "execution_count": 26,
   "metadata": {
    "ExecuteTime": {
     "end_time": "2022-05-05T05:49:11.990875Z",
     "start_time": "2022-05-05T05:49:11.847063Z"
    }
   },
   "outputs": [
    {
     "name": "stdout",
     "output_type": "stream",
     "text": [
      "RandomForestClassifier: ROC AUC=0.77285\n"
     ]
    },
    {
     "data": {
      "image/png": "[encoded data removed]",
      "text/plain": [
       "<Figure size 432x288 with 1 Axes>"
      ]
     },
     "metadata": {
      "needs_background": "light"
     },
     "output_type": "display_data"
    }
   ],
   "source": [
    "# рассчитаем ROC AUC значение:\n",
    "lr_auc = roc_auc_score(valid_target, valid_pred_rf)\n",
    "print('RandomForestClassifier: ROC AUC=%.5f' % (lr_auc))\n",
    "# рассчитываем roc-кривую\n",
    "fpr, tpr, treshold = roc_curve(valid_target, valid_pred_rf)\n",
    "roc_auc = auc(fpr, tpr)\n",
    "# строим график\n",
    "plt.plot(fpr, tpr, color='darkorange',\n",
    "         label='ROC кривая (area = %0.2f)' % roc_auc)\n",
    "plt.plot([0, 1], [0, 1], color='navy', linestyle='--')\n",
    "plt.xlim([0.0, 1.0])\n",
    "plt.ylim([0.0, 1.05])\n",
    "plt.xlabel('False Positive Rate')\n",
    "plt.ylabel('True Positive Rate')\n",
    "plt.title('RandomForestClassifier ROC-кривой')\n",
    "plt.legend(loc=\"lower right\")\n",
    "plt.show()"
   ]
  },
  {
   "cell_type": "markdown",
   "metadata": {},
   "source": [
    "Оценим результаты работы RandomForestClassifier:  \n",
    "\n",
    "ROC AUC=0.773  \n",
    "\n",
    "RandomForestClassifier хуже отработал, чем DecisionTreeClassifier."
   ]
  },
  {
   "cell_type": "code",
   "execution_count": 27,
   "metadata": {
    "ExecuteTime": {
     "end_time": "2022-05-05T05:49:12.325861Z",
     "start_time": "2022-05-05T05:49:12.318269Z"
    }
   },
   "outputs": [
    {
     "data": {
      "text/plain": [
       "5.595096472599745"
      ]
     },
     "execution_count": 27,
     "metadata": {},
     "output_type": "execute_result"
    }
   ],
   "source": [
    "log_loss(valid_target, valid_pred_rf)"
   ]
  },
  {
   "cell_type": "markdown",
   "metadata": {},
   "source": [
    "#### 3.4. Модель логистическая регрессия (LogisticRegression)"
   ]
  },
  {
   "cell_type": "code",
   "execution_count": 28,
   "metadata": {
    "ExecuteTime": {
     "end_time": "2022-05-05T05:49:12.684522Z",
     "start_time": "2022-05-05T05:49:12.643836Z"
    }
   },
   "outputs": [
    {
     "name": "stdout",
     "output_type": "stream",
     "text": [
      "Random Forest; n_estimators = 25 ; max_depth= 11 ; accuracy = 0.7725856697819314\n",
      "balanced accuracy: 0.6486877828054298\n"
     ]
    }
   ],
   "source": [
    "#warnings.simplefilter(action='ignore', category=FutureWarning)\n",
    "model_logistic_regression = LogisticRegression(\n",
    "    class_weight={0: 1, 1: 1.2},\n",
    "    random_state=RANDOM_STATE\n",
    ")\n",
    "model_logistic_regression.fit(train_features, train_target)\n",
    "valid_pred_lr = model_logistic_regression.predict(valid_features)\n",
    "accuracy = accuracy_score(valid_target, valid_pred_lr)\n",
    "print(modelName, '; accuracy =', accuracy)\n",
    "print(\"balanced accuracy:\", balanced_accuracy_score(valid_target, valid_pred_lr))"
   ]
  },
  {
   "cell_type": "markdown",
   "metadata": {},
   "source": [
    " LogisticRegression результат:  \n",
    " \n",
    "     Random Forest; n_estimators = 25 ; max_depth= 11 ; accuracy = 0.6978193146417445"
   ]
  },
  {
   "cell_type": "markdown",
   "metadata": {},
   "source": [
    " LogisticRegression  случае с  class_weight  результат улучшается:  \n",
    " \n",
    "     Random Forest; n_estimators = 25 ; max_depth= 11 ; accuracy = 0.7725856697819314"
   ]
  },
  {
   "cell_type": "code",
   "execution_count": 29,
   "metadata": {
    "ExecuteTime": {
     "end_time": "2022-05-05T05:49:13.248187Z",
     "start_time": "2022-05-05T05:49:13.155655Z"
    }
   },
   "outputs": [
    {
     "data": {
      "image/png": "[encoded data removed]",
      "text/plain": [
       "<Figure size 432x432 with 1 Axes>"
      ]
     },
     "metadata": {
      "needs_background": "light"
     },
     "output_type": "display_data"
    }
   ],
   "source": [
    "plt.subplots(figsize=(6, 6))\n",
    "sns.heatmap(confusion_matrix(valid_target, valid_pred_lr),\n",
    "            xticklabels=labels,\n",
    "            yticklabels=labels,\n",
    "            annot=True,\n",
    "            fmt=\"1.0f\",\n",
    "            cbar=False,\n",
    "            annot_kws={\"size\": 20})\n",
    "plt.title(\"Confusion matrix\", fontsize=30)\n",
    "plt.xlabel(\n",
    "    f\"LogisticRegression model аccuracy: {accuracy_score(valid_target,valid_pred_lr)}\",\n",
    "    fontsize=30)\n",
    "plt.show()"
   ]
  },
  {
   "cell_type": "code",
   "execution_count": 30,
   "metadata": {
    "ExecuteTime": {
     "end_time": "2022-05-05T05:49:13.348065Z",
     "start_time": "2022-05-05T05:49:13.337431Z"
    }
   },
   "outputs": [
    {
     "name": "stdout",
     "output_type": "stream",
     "text": [
      "              precision    recall  f1-score   support\n",
      "\n",
      "       smart       0.76      0.98      0.86       221\n",
      "       ultra       0.86      0.32      0.47       100\n",
      "\n",
      "    accuracy                           0.77       321\n",
      "   macro avg       0.81      0.65      0.66       321\n",
      "weighted avg       0.79      0.77      0.73       321\n",
      "\n"
     ]
    }
   ],
   "source": [
    "print(classification_report(valid_target, valid_pred_lr, target_names=labels))"
   ]
  },
  {
   "cell_type": "markdown",
   "metadata": {},
   "source": [
    "Оценим результаты работы  модели LogisticRegression:  \n",
    "\n",
    "Precision по тарифу \"smart\" - 76%, показатель Recall  по \"ultra\" категории очень низкий (32%).\n",
    "LogisticRegression отработал хуже, чем RandomForestClassifier и DecisionTreeClassifier."
   ]
  },
  {
   "cell_type": "code",
   "execution_count": 31,
   "metadata": {
    "ExecuteTime": {
     "end_time": "2022-05-05T05:49:13.872578Z",
     "start_time": "2022-05-05T05:49:13.722421Z"
    }
   },
   "outputs": [
    {
     "name": "stdout",
     "output_type": "stream",
     "text": [
      "RandomForestClassifier: ROC AUC=0.649\n"
     ]
    },
    {
     "data": {
      "image/png": "[encoded data removed]",
      "text/plain": [
       "<Figure size 432x288 with 1 Axes>"
      ]
     },
     "metadata": {
      "needs_background": "light"
     },
     "output_type": "display_data"
    }
   ],
   "source": [
    "# рассчитаем ROC AUC значение:\n",
    "lr_auc = roc_auc_score(valid_target, valid_pred_lr)\n",
    "print('RandomForestClassifier: ROC AUC=%.3f' % (lr_auc))\n",
    "# рассчитываем roc-кривую\n",
    "fpr, tpr, treshold = roc_curve(valid_target, valid_pred_lr)\n",
    "roc_auc = auc(fpr, tpr)\n",
    "# строим график\n",
    "plt.plot(fpr, tpr, color='darkorange',\n",
    "         label='ROC кривая (area = %0.2f)' % roc_auc)\n",
    "plt.plot([0, 1], [0, 1], color='navy', linestyle='--')\n",
    "plt.xlim([0.0, 1.0])\n",
    "plt.ylim([0.0, 1.05])\n",
    "plt.xlabel('False Positive Rate')\n",
    "plt.ylabel('True Positive Rate')\n",
    "plt.title('LogisticRegression ROC-кривой')\n",
    "plt.legend(loc=\"lower right\")\n",
    "plt.show()"
   ]
  },
  {
   "cell_type": "markdown",
   "metadata": {},
   "source": [
    "Оценим результаты работы LogisticRegression:  \n",
    "\n",
    "ROC AUC=0.649\n",
    "\n",
    "LogisticRegression дает результат мало лучше, чем случайность (65%)"
   ]
  },
  {
   "cell_type": "markdown",
   "metadata": {},
   "source": [
    "#### Промежуточный вывод\n",
    "\n",
    "- Лучший результат в точности показала модель Дерево Решений с параметрами: max_depth= 9\n",
    "- Худший результат в точночти показала логистическая регрессия\n",
    "- Довольно неплохо показало себя Случайный лес, при чем глубины 6 было достаточно и кол-во деревьев - 5.\n",
    "- как и подозревали, дисбаланс классов по таргету оказывает влияние на результат обучения модели. Параметр class_weight способен улучшить метрики (+1+2%)"
   ]
  },
  {
   "cell_type": "markdown",
   "metadata": {},
   "source": [
    "#### 3.5. Модель SVM "
   ]
  },
  {
   "cell_type": "code",
   "execution_count": 32,
   "metadata": {
    "ExecuteTime": {
     "end_time": "2022-05-05T05:49:14.671610Z",
     "start_time": "2022-05-05T05:49:14.420217Z"
    }
   },
   "outputs": [
    {
     "name": "stdout",
     "output_type": "stream",
     "text": [
      "balanced accuracy 0.6673755656108598\n",
      "accuracy 0.7757009345794392\n"
     ]
    }
   ],
   "source": [
    "model_svm = svm.SVC(class_weight={0: 1, 1: 1.4}, random_state=RANDOM_STATE)\n",
    "model_svm.fit(train_features, train_target)\n",
    "valid_predict_svm = model_svm.predict(valid_features)\n",
    "print(\"balanced accuracy\",\n",
    "      balanced_accuracy_score(valid_target, valid_predict_svm))\n",
    "print(\"accuracy\", accuracy_score(valid_target, valid_predict_svm))"
   ]
  },
  {
   "cell_type": "code",
   "execution_count": 33,
   "metadata": {
    "ExecuteTime": {
     "end_time": "2022-05-05T05:49:14.777415Z",
     "start_time": "2022-05-05T05:49:14.673964Z"
    }
   },
   "outputs": [
    {
     "data": {
      "image/png": "[encoded data removed]",
      "text/plain": [
       "<Figure size 432x432 with 1 Axes>"
      ]
     },
     "metadata": {
      "needs_background": "light"
     },
     "output_type": "display_data"
    }
   ],
   "source": [
    "plt.subplots(figsize=(6, 6))\n",
    "sns.heatmap(confusion_matrix(valid_target, valid_predict_svm),\n",
    "            xticklabels=labels,\n",
    "            yticklabels=labels,\n",
    "            annot=True,\n",
    "            fmt=\"1.0f\",\n",
    "            cbar=False,\n",
    "            annot_kws={\"size\": 20})\n",
    "plt.title(\"Confusion matrix\", fontsize=30)\n",
    "plt.xlabel(\n",
    "    f\"SVM model аccuracy: {accuracy_score(valid_target,valid_predict_svm)}\",\n",
    "    fontsize=30)\n",
    "plt.show()"
   ]
  },
  {
   "cell_type": "markdown",
   "metadata": {},
   "source": [
    "В связи с низкими показателями \"accuracy\" и \"balanced accuracy\" не стал более глубоко анализировать модель."
   ]
  },
  {
   "cell_type": "markdown",
   "metadata": {},
   "source": [
    "####  3.5. Модель KNeighborsClassifier"
   ]
  },
  {
   "cell_type": "code",
   "execution_count": 34,
   "metadata": {
    "ExecuteTime": {
     "end_time": "2022-05-05T05:49:15.187738Z",
     "start_time": "2022-05-05T05:49:15.166112Z"
    }
   },
   "outputs": [
    {
     "name": "stdout",
     "output_type": "stream",
     "text": [
      "balanced accuracy 0.7046380090497738\n",
      "accuracy 0.8006230529595015\n"
     ]
    }
   ],
   "source": [
    "model_neigh = KNeighborsClassifier(n_neighbors=7)\n",
    "model_neigh.fit(train_features, train_target)\n",
    "valid_predict_neigh = model_neigh.predict(valid_features)\n",
    "print(\"balanced accuracy\", balanced_accuracy_score(\n",
    "    valid_target, valid_predict_neigh))\n",
    "print(\"accuracy\", accuracy_score(valid_target, valid_predict_neigh))"
   ]
  },
  {
   "cell_type": "code",
   "execution_count": 35,
   "metadata": {
    "ExecuteTime": {
     "end_time": "2022-05-05T05:49:15.483872Z",
     "start_time": "2022-05-05T05:49:15.367144Z"
    }
   },
   "outputs": [
    {
     "data": {
      "image/png": "[encoded data removed]",
      "text/plain": [
       "<Figure size 432x432 with 1 Axes>"
      ]
     },
     "metadata": {
      "needs_background": "light"
     },
     "output_type": "display_data"
    }
   ],
   "source": [
    "plt.subplots(figsize=(6, 6))\n",
    "sns.heatmap(confusion_matrix(valid_target, valid_predict_neigh),\n",
    "            xticklabels=labels,\n",
    "            yticklabels=labels,\n",
    "            annot=True,\n",
    "            fmt=\"1.0f\",\n",
    "            cbar=False,\n",
    "            annot_kws={\"size\": 20})\n",
    "plt.title(\"Confusion matrix\", fontsize=30)\n",
    "plt.xlabel(\n",
    "    f\"KNeighborsClassifier model аccuracy: {accuracy_score(valid_target,valid_predict_neigh)}\",\n",
    "    fontsize=30)\n",
    "plt.show()"
   ]
  },
  {
   "cell_type": "markdown",
   "metadata": {},
   "source": [
    "В связи с низкими показателями \"accuracy\" и \"balanced accuracy\" не стал более глубоко анализировать модель."
   ]
  },
  {
   "cell_type": "markdown",
   "metadata": {},
   "source": [
    "### 4. Проверьте модель на тестовой выборке"
   ]
  },
  {
   "cell_type": "code",
   "execution_count": 36,
   "metadata": {
    "ExecuteTime": {
     "end_time": "2022-05-05T05:49:15.946743Z",
     "start_time": "2022-05-05T05:49:15.928061Z"
    }
   },
   "outputs": [
    {
     "name": "stdout",
     "output_type": "stream",
     "text": [
      "Test accuracy: 0.7888198757763976\n",
      "balanced accuracy: 0.6986909453277166\n"
     ]
    }
   ],
   "source": [
    "# проверим наилучшую модель на тестовых данных\n",
    "model = DecisionTreeClassifier(max_depth=9, class_weight={0: 1, 1: 1.2},\n",
    "                               random_state=RANDOM_STATE)\n",
    "model.fit(train_features, train_target)\n",
    "test_predicted = model.predict(test_features)\n",
    "print('Test accuracy:', accuracy_score(test_target, test_predicted))\n",
    "print(\"balanced accuracy:\", balanced_accuracy_score(test_target, test_predicted))"
   ]
  },
  {
   "cell_type": "code",
   "execution_count": 37,
   "metadata": {
    "ExecuteTime": {
     "end_time": "2022-05-05T05:49:16.139044Z",
     "start_time": "2022-05-05T05:49:16.129408Z"
    }
   },
   "outputs": [
    {
     "name": "stdout",
     "output_type": "stream",
     "text": [
      "Train accuracy: 0.8673667833527811\n",
      "balanced accuracy: 0.8001678534009024\n"
     ]
    }
   ],
   "source": [
    "# из интереса проверим точность модели на исходных данных\n",
    "train_predicted = model.predict(train_features)\n",
    "print('Train accuracy:', accuracy_score(train_target, train_predicted))\n",
    "print(\"balanced accuracy:\", balanced_accuracy_score(\n",
    "    train_target, train_predicted))"
   ]
  },
  {
   "cell_type": "markdown",
   "metadata": {},
   "source": [
    "#### Предварительный вывод\n",
    "\n",
    "Мы получили хорошую точность моделей (все модели уложились в требования по accuracy (75%). Наилучшими оказались модели: Дерево решений и  Случайный лес.\n",
    "При этом, учитывая, что на исходных данных accuracy не ушли за 90%, можно оценить фактор переобучения как не сильно критичный для нашей модели. Скорее можно говорить о недообучении модели."
   ]
  },
  {
   "cell_type": "markdown",
   "metadata": {},
   "source": [
    "\n",
    "<div class=\"alert alert-block alert-warning\">\n",
    "<b>Комментарий ревьюера🤔:</b> А почему ты считаешь, что звоночком об оверфиттинге является рубеж в 90%? Разница между в точности между обучающей выборкой и тестовой 9% - это много и свидетельствует о не очень адекватной работе модели\n",
    "</div>"
   ]
  },
  {
   "cell_type": "markdown",
   "metadata": {},
   "source": [
    "### 5. Проверка модели на адекватность (бонус) "
   ]
  },
  {
   "cell_type": "markdown",
   "metadata": {},
   "source": [
    "Для проверки результата сделаем Cross validation для лучшей нашей модели на всех данных, чтобы убедиться, что результаты модели не случайны (из-за неравномерного распределения по качеству среди train, validate, test). "
   ]
  },
  {
   "cell_type": "code",
   "execution_count": 38,
   "metadata": {
    "ExecuteTime": {
     "end_time": "2022-05-05T05:49:17.703523Z",
     "start_time": "2022-05-05T05:49:17.197830Z"
    }
   },
   "outputs": [
    {
     "name": "stdout",
     "output_type": "stream",
     "text": [
      "[0.81987578 0.77639752 0.79503106 0.81987578 0.72049689 0.80745342\n",
      " 0.77018634 0.80124224 0.79503106 0.80745342 0.8136646  0.80124224\n",
      " 0.78881988 0.80124224 0.78125    0.83125    0.81875    0.8125\n",
      " 0.75       0.8375    ]\n",
      "Среднее значение accuracy на Cross-val: 0.7974631211180124\n"
     ]
    }
   ],
   "source": [
    "# DecisionTreeClassifier\n",
    "features = df.drop(['is_ultra'], axis=1)\n",
    "target = df['is_ultra']\n",
    "\n",
    "model_decision_tree = DecisionTreeClassifier(max_depth=9,\n",
    "                                             class_weight={0: 1, 1: 1.4},\n",
    "                                             random_state=RANDOM_STATE)\n",
    "\n",
    "print(cross_val_score(model_decision_tree, features, target, cv=20))\n",
    "print(\"Среднее значение accuracy на Cross-val:\", cross_val_score(model_decision_tree,\n",
    "                                                                 features, target, cv=20).mean())"
   ]
  },
  {
   "cell_type": "code",
   "execution_count": 39,
   "metadata": {
    "ExecuteTime": {
     "end_time": "2022-05-05T05:49:18.549458Z",
     "start_time": "2022-05-05T05:49:17.706248Z"
    }
   },
   "outputs": [
    {
     "name": "stdout",
     "output_type": "stream",
     "text": [
      "[0.83850932 0.81987578 0.7826087  0.8136646  0.77018634 0.78881988\n",
      " 0.74534161 0.82608696 0.80124224 0.82608696 0.80745342 0.80124224\n",
      " 0.8136646  0.79503106 0.78125    0.8        0.825      0.8\n",
      " 0.80625    0.83125   ]\n",
      "Среднее значение accuracy на Cross-val: 0.8036781832298135\n"
     ]
    }
   ],
   "source": [
    "# RandomForestClassifier\n",
    "model_random_forest = RandomForestClassifier(n_estimators=5,\n",
    "                                             max_depth=6,\n",
    "                                             class_weight={\n",
    "                                                 0: 1,\n",
    "                                                 1: 1.2},\n",
    "                                             random_state=RANDOM_STATE)\n",
    "\n",
    "print(cross_val_score(model_random_forest, features, target, cv=20))\n",
    "print(\"Среднее значение accuracy на Cross-val:\", cross_val_score(model_random_forest,\n",
    "                                                                 features, target, cv=20).mean())"
   ]
  },
  {
   "cell_type": "code",
   "execution_count": 40,
   "metadata": {
    "ExecuteTime": {
     "end_time": "2022-05-05T05:49:18.966527Z",
     "start_time": "2022-05-05T05:49:18.552802Z"
    }
   },
   "outputs": [
    {
     "name": "stdout",
     "output_type": "stream",
     "text": [
      "[0.8136646  0.7826087  0.73913043 0.79503106 0.76397516 0.80124224\n",
      " 0.76397516 0.75776398 0.76397516 0.77018634 0.72670807 0.76397516\n",
      " 0.77639752 0.78881988 0.71875    0.74375    0.775      0.7625\n",
      " 0.7875     0.78125   ]\n",
      "Среднее значение accuracy на Cross-val: 0.7688101708074534\n"
     ]
    }
   ],
   "source": [
    "# KNeighborsClassifier\n",
    "model_neigh = KNeighborsClassifier(n_neighbors=7)\n",
    "print(cross_val_score(model_neigh, features, target, cv=20))\n",
    "print(\"Среднее значение accuracy на Cross-val:\", cross_val_score(model_neigh,\n",
    "                                                                 features, target, cv=20).mean())"
   ]
  },
  {
   "cell_type": "markdown",
   "metadata": {},
   "source": [
    "Промежуточный вывод:\n",
    "    согласно Cross-val проверке RandomForestClassifier показала лучший результат:\n",
    "        Среднее значение accuracy на Cross-val: 0.8036781832298135"
   ]
  },
  {
   "cell_type": "code",
   "execution_count": 41,
   "metadata": {
    "ExecuteTime": {
     "end_time": "2022-05-05T05:49:18.972330Z",
     "start_time": "2022-05-05T05:49:18.968317Z"
    }
   },
   "outputs": [
    {
     "name": "stdout",
     "output_type": "stream",
     "text": [
      "Unique predicted labels:  [0]\n",
      "Test accuracy:  0.6884735202492211\n"
     ]
    }
   ],
   "source": [
    "from sklearn.dummy import DummyClassifier\n",
    "\n",
    "# DummyClassifier to predict only target 0\n",
    "dummy = DummyClassifier(strategy='most_frequent').fit(\n",
    "    train_features, train_target)\n",
    "dummy_pred = dummy.predict(valid_features)\n",
    "\n",
    "# checking unique labels\n",
    "print('Unique predicted labels: ', (np.unique(dummy_pred)))\n",
    "# checking accuracy\n",
    "print('Test accuracy: ', accuracy_score(valid_target, dummy_pred))"
   ]
  },
  {
   "cell_type": "code",
   "execution_count": 42,
   "metadata": {
    "ExecuteTime": {
     "end_time": "2022-05-05T05:49:19.181965Z",
     "start_time": "2022-05-05T05:49:19.176384Z"
    }
   },
   "outputs": [],
   "source": [
    "# for train:\n",
    "train_features = train.drop(['is_ultra'], axis=1)\n",
    "train_target = train['is_ultra']\n",
    "# for validate:\n",
    "valid_features = validate.drop(['is_ultra'], axis=1)\n",
    "valid_target = validate['is_ultra']\n",
    "# for test:\n",
    "test_features = test.drop(['is_ultra'], axis=1)\n",
    "test_target = test['is_ultra']"
   ]
  },
  {
   "cell_type": "code",
   "execution_count": 43,
   "metadata": {
    "ExecuteTime": {
     "end_time": "2022-05-05T05:49:19.633716Z",
     "start_time": "2022-05-05T05:49:19.628586Z"
    }
   },
   "outputs": [
    {
     "data": {
      "text/plain": [
       "0    1785\n",
       "1     786\n",
       "Name: is_ultra, dtype: int64"
      ]
     },
     "execution_count": 43,
     "metadata": {},
     "output_type": "execute_result"
    }
   ],
   "source": [
    "# уточним кол-во образцов по классам:\n",
    "train['is_ultra'].value_counts()"
   ]
  },
  {
   "cell_type": "code",
   "execution_count": 44,
   "metadata": {
    "ExecuteTime": {
     "end_time": "2022-05-05T05:49:19.877670Z",
     "start_time": "2022-05-05T05:49:19.864241Z"
    }
   },
   "outputs": [
    {
     "data": {
      "text/plain": [
       "0    1785\n",
       "1    1785\n",
       "Name: is_ultra, dtype: int64"
      ]
     },
     "execution_count": 44,
     "metadata": {},
     "output_type": "execute_result"
    }
   ],
   "source": [
    "from sklearn.utils import resample\n",
    "\n",
    "# concatenate our training data back together\n",
    "data = pd.concat([train_features, train_target], axis=1)\n",
    "\n",
    "# separate minority and majority classes\n",
    "not_fraud = data[data['is_ultra'] == 0]\n",
    "fraud = data[data['is_ultra'] == 1]\n",
    "\n",
    "# upsample minority\n",
    "fraud_upsampled = resample(\n",
    "    fraud,\n",
    "    replace=True,  # sample with replacement\n",
    "    n_samples=len(not_fraud),  # match number in majority class\n",
    "    random_state=27)  # reproducible results\n",
    "\n",
    "# combine majority and upsampled minority\n",
    "upsampled = pd.concat([not_fraud, fraud_upsampled])\n",
    "\n",
    "# check new class counts\n",
    "upsampled['is_ultra'].value_counts()"
   ]
  },
  {
   "cell_type": "code",
   "execution_count": 45,
   "metadata": {
    "ExecuteTime": {
     "end_time": "2022-05-05T05:49:20.087719Z",
     "start_time": "2022-05-05T05:49:20.073716Z"
    }
   },
   "outputs": [
    {
     "data": {
      "text/html": [
       "<div>\n",
       "<style scoped>\n",
       "    .dataframe tbody tr th:only-of-type {\n",
       "        vertical-align: middle;\n",
       "    }\n",
       "\n",
       "    .dataframe tbody tr th {\n",
       "        vertical-align: top;\n",
       "    }\n",
       "\n",
       "    .dataframe thead th {\n",
       "        text-align: right;\n",
       "    }\n",
       "</style>\n",
       "<table border=\"1\" class=\"dataframe\">\n",
       "  <thead>\n",
       "    <tr style=\"text-align: right;\">\n",
       "      <th></th>\n",
       "      <th>calls</th>\n",
       "      <th>minutes</th>\n",
       "      <th>messages</th>\n",
       "      <th>mb_used</th>\n",
       "      <th>is_ultra</th>\n",
       "    </tr>\n",
       "  </thead>\n",
       "  <tbody>\n",
       "    <tr>\n",
       "      <th>506</th>\n",
       "      <td>46.0</td>\n",
       "      <td>338.60</td>\n",
       "      <td>35.0</td>\n",
       "      <td>11428.54</td>\n",
       "      <td>0</td>\n",
       "    </tr>\n",
       "    <tr>\n",
       "      <th>2513</th>\n",
       "      <td>39.0</td>\n",
       "      <td>242.71</td>\n",
       "      <td>0.0</td>\n",
       "      <td>20480.11</td>\n",
       "      <td>0</td>\n",
       "    </tr>\n",
       "    <tr>\n",
       "      <th>354</th>\n",
       "      <td>39.0</td>\n",
       "      <td>258.02</td>\n",
       "      <td>0.0</td>\n",
       "      <td>19998.80</td>\n",
       "      <td>0</td>\n",
       "    </tr>\n",
       "    <tr>\n",
       "      <th>1642</th>\n",
       "      <td>87.0</td>\n",
       "      <td>583.02</td>\n",
       "      <td>1.0</td>\n",
       "      <td>11213.97</td>\n",
       "      <td>0</td>\n",
       "    </tr>\n",
       "    <tr>\n",
       "      <th>2706</th>\n",
       "      <td>86.0</td>\n",
       "      <td>544.49</td>\n",
       "      <td>68.0</td>\n",
       "      <td>16555.89</td>\n",
       "      <td>0</td>\n",
       "    </tr>\n",
       "    <tr>\n",
       "      <th>...</th>\n",
       "      <td>...</td>\n",
       "      <td>...</td>\n",
       "      <td>...</td>\n",
       "      <td>...</td>\n",
       "      <td>...</td>\n",
       "    </tr>\n",
       "    <tr>\n",
       "      <th>2778</th>\n",
       "      <td>2.0</td>\n",
       "      <td>2.00</td>\n",
       "      <td>157.0</td>\n",
       "      <td>25482.17</td>\n",
       "      <td>1</td>\n",
       "    </tr>\n",
       "    <tr>\n",
       "      <th>1195</th>\n",
       "      <td>66.0</td>\n",
       "      <td>462.58</td>\n",
       "      <td>100.0</td>\n",
       "      <td>11846.31</td>\n",
       "      <td>1</td>\n",
       "    </tr>\n",
       "    <tr>\n",
       "      <th>481</th>\n",
       "      <td>158.0</td>\n",
       "      <td>1168.06</td>\n",
       "      <td>103.0</td>\n",
       "      <td>20018.79</td>\n",
       "      <td>1</td>\n",
       "    </tr>\n",
       "    <tr>\n",
       "      <th>1477</th>\n",
       "      <td>98.0</td>\n",
       "      <td>703.16</td>\n",
       "      <td>4.0</td>\n",
       "      <td>25391.67</td>\n",
       "      <td>1</td>\n",
       "    </tr>\n",
       "    <tr>\n",
       "      <th>1862</th>\n",
       "      <td>55.0</td>\n",
       "      <td>429.89</td>\n",
       "      <td>0.0</td>\n",
       "      <td>12327.99</td>\n",
       "      <td>1</td>\n",
       "    </tr>\n",
       "  </tbody>\n",
       "</table>\n",
       "<p>3570 rows × 5 columns</p>\n",
       "</div>"
      ],
      "text/plain": [
       "      calls  minutes  messages   mb_used  is_ultra\n",
       "506    46.0   338.60      35.0  11428.54         0\n",
       "2513   39.0   242.71       0.0  20480.11         0\n",
       "354    39.0   258.02       0.0  19998.80         0\n",
       "1642   87.0   583.02       1.0  11213.97         0\n",
       "2706   86.0   544.49      68.0  16555.89         0\n",
       "...     ...      ...       ...       ...       ...\n",
       "2778    2.0     2.00     157.0  25482.17         1\n",
       "1195   66.0   462.58     100.0  11846.31         1\n",
       "481   158.0  1168.06     103.0  20018.79         1\n",
       "1477   98.0   703.16       4.0  25391.67         1\n",
       "1862   55.0   429.89       0.0  12327.99         1\n",
       "\n",
       "[3570 rows x 5 columns]"
      ]
     },
     "execution_count": 45,
     "metadata": {},
     "output_type": "execute_result"
    }
   ],
   "source": [
    "upsampled"
   ]
  },
  {
   "cell_type": "markdown",
   "metadata": {},
   "source": [
    "Теперь обучим модель на этих данных:"
   ]
  },
  {
   "cell_type": "code",
   "execution_count": 49,
   "metadata": {
    "ExecuteTime": {
     "end_time": "2022-05-05T05:49:37.360073Z",
     "start_time": "2022-05-05T05:49:37.222945Z"
    }
   },
   "outputs": [
    {
     "name": "stdout",
     "output_type": "stream",
     "text": [
      "Descision Tree; max_depth= 2 ; accuracy = 0.8068535825545171\n",
      "Descision Tree; max_depth= 3 ; accuracy = 0.8161993769470405\n",
      "Descision Tree; max_depth= 4 ; accuracy = 0.7289719626168224\n",
      "Descision Tree; max_depth= 5 ; accuracy = 0.735202492211838\n",
      "Descision Tree; max_depth= 6 ; accuracy = 0.8068535825545171\n",
      "Descision Tree; max_depth= 7 ; accuracy = 0.7694704049844237\n",
      "Descision Tree; max_depth= 8 ; accuracy = 0.7601246105919003\n",
      "Descision Tree; max_depth= 9 ; accuracy = 0.7819314641744548\n",
      "Descision Tree; max_depth= 10 ; accuracy = 0.7538940809968847\n",
      "Descision Tree; max_depth= 11 ; accuracy = 0.7538940809968847\n",
      "Descision Tree; max_depth= 12 ; accuracy = 0.7725856697819314\n",
      "Descision Tree; max_depth= 13 ; accuracy = 0.7632398753894081\n",
      "Descision Tree; max_depth= 14 ; accuracy = 0.7881619937694704\n"
     ]
    }
   ],
   "source": [
    "# trying DecisionTreeClassifier  again with the balanced dataset\n",
    "train_target_bal = upsampled['is_ultra']\n",
    "train_features_bal = upsampled.drop(['is_ultra'], axis=1)\n",
    "\n",
    "for max_depth in range(2, 15):\n",
    "    model_decision_tree = DecisionTreeClassifier(\n",
    "        max_depth=max_depth,\n",
    "        # class_weight = {0: 1, 1: 1.2},\n",
    "        random_state=42)\n",
    "    model_decision_tree.fit(train_features_bal, train_target_bal)\n",
    "    valid_predicted_tree = model_decision_tree.predict(valid_features)\n",
    "    accuracy = accuracy_score(valid_target, valid_predicted_tree)\n",
    "    modelName = 'Descision Tree; max_depth= ' + str(max_depth)\n",
    "\n",
    "    print(modelName, '; accuracy =', accuracy)"
   ]
  },
  {
   "cell_type": "code",
   "execution_count": 51,
   "metadata": {
    "ExecuteTime": {
     "end_time": "2022-05-05T05:50:26.213920Z",
     "start_time": "2022-05-05T05:50:26.195600Z"
    }
   },
   "outputs": [
    {
     "name": "stdout",
     "output_type": "stream",
     "text": [
      "balanced accuracy 0.6968778280542987\n",
      "accuracy 0.7258566978193146\n"
     ]
    }
   ],
   "source": [
    "model_decision_tree = DecisionTreeClassifier(max_depth=9,\n",
    "                                             class_weight={0: 1, 1: 1.2},\n",
    "                                             random_state=RANDOM_STATE)\n",
    "model_decision_tree.fit(train_features_bal, train_target_bal)\n",
    "valid_predicted_tree = model_decision_tree.predict(valid_features)\n",
    "print(\"balanced accuracy\", balanced_accuracy_score(\n",
    "    valid_target, valid_predicted_tree))\n",
    "print(\"accuracy\", accuracy_score(valid_target, valid_predicted_tree))"
   ]
  },
  {
   "cell_type": "markdown",
   "metadata": {},
   "source": [
    "####  Промежуточный вывод:  \n",
    "мы предприняли попытку \"выравнять классы\", однако это не дало существенных улучшений по метрикам модели."
   ]
  },
  {
   "cell_type": "markdown",
   "metadata": {},
   "source": [
    "## Итоговый вывод\n",
    "\n",
    "Мы провели хоть и небольшую, но важную работу.\n",
    "- Мы изучили наши данные и привели типы к нужным значениям\n",
    "- Создали три выборки по которым обучили и проверили нашу модель в пропорции 80% - 10% - 10%\n",
    " - Мы исследовали 5 различные моделей с разными значениями гиперпараметров (Дерево решений, Случайный лес, Логистическую регрессию, SVM опорных векторов и Ближайших соседей)\n",
    "- Мы определили лучшую модель и параметры для нее, измерив и сравнив точность наших предсказаний на валидационной выборке (в нашем случае лучший результат показал дерево решений с глубиной - 9)\n",
    "- Мы проверили нашу модель на тестовых данных и полученные метрики оказались близко к метрикам на валидационной выборке. При этом  для нашей модели присутствует недообучение, но не критично.\n",
    "- Дополнительно мы проверили модель на адекватность и наша модель показала хорошие результаты в сравнении со результатами кросс-валидации.\n",
    "\n",
    "Отдел маркетинга \"Мегалайн\" может жить спокойно - мы создали для него модель,  которая позволит предлагать изменение тарифа заинтересованным в этом клиентам (по крайней мере с вероятностью 80%+)"
   ]
  },
  {
   "cell_type": "code",
   "execution_count": null,
   "metadata": {},
   "outputs": [],
   "source": []
  }
 ],
 "metadata": {
  "ExecuteTimeLog": [
   {
    "duration": 138,
    "start_time": "2022-05-05T09:01:48.963Z"
   },
   {
    "duration": 109,
    "start_time": "2022-05-05T09:02:44.224Z"
   }
  ],
  "kernelspec": {
   "display_name": "Python 3 (ipykernel)",
   "language": "python",
   "name": "python3"
  },
  "language_info": {
   "codemirror_mode": {
    "name": "ipython",
    "version": 3
   },
   "file_extension": ".py",
   "mimetype": "text/x-python",
   "name": "python",
   "nbconvert_exporter": "python",
   "pygments_lexer": "ipython3",
   "version": "3.8.13"
  },
  "toc": {
   "base_numbering": 1,
   "nav_menu": {},
   "number_sections": true,
   "sideBar": true,
   "skip_h1_title": true,
   "title_cell": "Table of Contents",
   "title_sidebar": "Contents",
   "toc_cell": false,
   "toc_position": {},
   "toc_section_display": true,
   "toc_window_display": false
  }
 },
 "nbformat": 4,
 "nbformat_minor": 2
}
